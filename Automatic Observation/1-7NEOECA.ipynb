{
 "cells": [
  {
   "cell_type": "code",
   "execution_count": 1,
   "metadata": {},
   "outputs": [],
   "source": [
    "import requests, json\n",
    "from bs4 import BeautifulSoup\n",
    "from datetime import datetime"
   ]
  },
  {
   "cell_type": "code",
   "execution_count": 2,
   "metadata": {},
   "outputs": [],
   "source": [
    "# The beginning and end time of daily observation.\n",
    "obs_begin = '12'\n",
    "obs_stop = '20'"
   ]
  },
  {
   "cell_type": "markdown",
   "metadata": {},
   "source": [
    "# Scrawling the website: __[NEO Earth Close Approaches](https://cneos.jpl.nasa.gov/ca/)__\n",
    "* Table Settings: Nominal dist. <= __0.2__au"
   ]
  },
  {
   "cell_type": "code",
   "execution_count": 3,
   "metadata": {},
   "outputs": [],
   "source": [
    "res = requests.get(\"https://ssd-api.jpl.nasa.gov/cad.api?www=1&nea-comet=Y&dist-max=0.2&fullname=true\")\n",
    "soup = BeautifulSoup(res.text, 'lxml')\n",
    "# All data for each object.\n",
    "jd = json.loads(soup.text)"
   ]
  },
  {
   "cell_type": "markdown",
   "metadata": {},
   "source": [
    "# Choosing NEAs by today's __Close-Approach (CA) Date__"
   ]
  },
  {
   "cell_type": "code",
   "execution_count": 4,
   "metadata": {},
   "outputs": [],
   "source": [
    "today = datetime.now().strftime(\"%Y-%b-%d\")\n",
    "neas = []\n",
    "for neaData in jd['data']:\n",
    "    if today in neaData[3]:\n",
    "        neas.append(neaData[0].split('|')[1])"
   ]
  },
  {
   "cell_type": "markdown",
   "metadata": {},
   "source": [
    "# Scrawling the website: __[Minor Planet & Comet Ephemeris Service](https://www.minorplanetcenter.net/iau/MPEph/MPEph.html)__\n",
    "## Storing observable NEAs(__neaBright__)' _motions (\"/s)_ (__neaMotions__) and _lines of their ephemerides in ACP format_ (__neaLines__)."
   ]
  },
  {
   "cell_type": "code",
   "execution_count": 5,
   "metadata": {},
   "outputs": [],
   "source": [
    "dateWP = datetime.now().strftime(\"%Y %m %d\")\n",
    "date = datetime.now().strftime(\"%Y%m%d\")\n",
    "neaMotions, neaLines, neaBright = [], [], []\n",
    "for nea in neas:\n",
    "    neaLine = \"\"\n",
    "    payload = {'ty':'e', 'TextArea':nea, 'd':dateWP, 'l':'', 'i':'1', 'u':'h', 'uto':'0', 'c':'D37'\n",
    "               , 'long':'', 'lat':'', 'alt':'', 'raty':'d', 's':'t', 'm':'s', 'igd':'y', 'ibh':'y', 'adir':'N'\n",
    "               , 'oed':'', 'e':'-2', 'resoc':'', 'tit':'', 'bu':'', 'ch':'c', 'ce':'f', 'js':'f'}\n",
    "    res = requests.post(\"https://cgi.minorplanetcenter.net/cgi-bin/mpeph2.cgi\", data = payload)\n",
    "    soup = BeautifulSoup(res.text, 'lxml')\n",
    "\n",
    "    ephems = [i for i in soup.select('pre')[0].text.split('\\n') if dateWP in i]\n",
    "    ephemsOK = [i for i in ephems if (int(i.split()[14][1:]) >= 40) and (i.split(' ')[3][:2] >= obs_begin) and (i.split(' ')[3][:2] <= obs_stop)]\n",
    "    if (ephemsOK != []) and (float(ephemsOK[0].split()[10]) <= 18.):\n",
    "        neaMotions.append(float(ephemsOK[0].split()[11]))\n",
    "        for ephem in ephemsOK:\n",
    "    #         with open(\"D:/LWTdata/LWT_{}/lulinLWT/others/{}_ephem_{}.txt\".format(date, nea, ephemsOK[0].split()[11]), 'a') as file:\n",
    "    #             file.write(ephem + '\\n')\n",
    "            neaLine = neaLine + ephem[:36] + '|'\n",
    "        neaLines.append(neaLine[:-1])\n",
    "        neaBright.append(nea)\n",
    "    else:\n",
    "        pass"
   ]
  },
  {
   "cell_type": "markdown",
   "metadata": {},
   "source": [
    "# If there are some suitable NEAs, choose the one whose observable time spans the longest; otherwise, send an email about no NEO and NEA is suitable."
   ]
  },
  {
   "cell_type": "code",
   "execution_count": 6,
   "metadata": {},
   "outputs": [],
   "source": [
    "if neaBright != []:\n",
    "    neaSpans = [(int(line.split('|')[-1].split()[3][:2])-int(line.split('|')[0].split()[3][:2])) for line in neaLines]\n",
    "    neaMaxSpanIdx = neaSpans.index(max(neaSpans))\n",
    "    neaBOK = neaBright[neaMaxSpanIdx]\n",
    "    neaLOK = neaLines[neaMaxSpanIdx]\n",
    "    neaMOK = neaMotions[neaMaxSpanIdx]\n",
    "else:\n",
    "#     shutil.rmtree(\"D:/LWTdata/LWT_{}/lulinLWT\".format(date))\n",
    "#     sendemail(from_addr    = 'lwt@gm.astro.ncu.edu.tw', \n",
    "#               to_addr_list = ['lwtgroup@astro.ncu.edu.tw'],\n",
    "#               cc_addr_list = [], \n",
    "#               subject      = 'LWT has \"NO\" observation today!', \n",
    "#               message      = 'Bonjour,\\n\\nPlease run the script of Prof. Ngeow today!\\nMerci beaucoup!\\n\\nAmuse-toi bien,\\nJian-Fong Huang (smoBEE)\\nemail: smoBEE@astro.ncu.edu.tw', \n",
    "#               login        = 'lwt@gm.astro.ncu.edu.tw', \n",
    "#               password     = 'lulin1478963')\n",
    "#     sys.exit()\n",
    "    pass"
   ]
  },
  {
   "cell_type": "code",
   "execution_count": 7,
   "metadata": {},
   "outputs": [
    {
     "name": "stdout",
     "output_type": "stream",
     "text": [
      "[141525] motion is: 0.29\"/s\n",
      "[141525] ephemerise is:\n",
      "2019 05 01 120000   10.0208  +39.774|2019 05 01 130000   09.9963  +39.709|2019 05 01 140000   09.9719  +39.642|2019 05 01 150000   09.9477  +39.574\n"
     ]
    }
   ],
   "source": [
    "print('[{}] motion is: {}\"/s'.format(neaBOK, neaMOK))\n",
    "print('[{}] ephemerise is:\\n{}'.format(neaBOK, neaLOK))"
   ]
  }
 ],
 "metadata": {
  "kernelspec": {
   "display_name": "Python 3",
   "language": "python",
   "name": "python3"
  },
  "language_info": {
   "codemirror_mode": {
    "name": "ipython",
    "version": 3
   },
   "file_extension": ".py",
   "mimetype": "text/x-python",
   "name": "python",
   "nbconvert_exporter": "python",
   "pygments_lexer": "ipython3",
   "version": "3.6.1"
  }
 },
 "nbformat": 4,
 "nbformat_minor": 2
}
