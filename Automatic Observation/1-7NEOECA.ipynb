{
 "cells": [
  {
   "cell_type": "code",
   "execution_count": 1,
   "metadata": {},
   "outputs": [],
   "source": [
    "import requests, json\n",
    "from bs4 import BeautifulSoup\n",
    "from datetime import datetime"
   ]
  },
  {
   "cell_type": "code",
   "execution_count": 2,
   "metadata": {},
   "outputs": [],
   "source": [
    "# The beginning and end time of daily observation.\n",
    "obs_begin = '12'\n",
    "obs_stop = '20'"
   ]
  },
  {
   "cell_type": "markdown",
   "metadata": {},
   "source": [
    "# Scrawling _[NEO Earth Close Approaches](https://cneos.jpl.nasa.gov/ca/)_ !\n",
    "* Table Settings: Nominal dist. <= __0.2__au"
   ]
  },
  {
   "cell_type": "markdown",
   "metadata": {},
   "source": [
    "<img src=\"https://drive.google.com/uc?id=11HAL3jkXzH52n9MYPNCBbi2HISN8rtRk\", width=1000, height=1000>"
   ]
  },
  {
   "cell_type": "code",
   "execution_count": 3,
   "metadata": {},
   "outputs": [
    {
     "data": {
      "text/plain": [
       "['bK19G04G|2019 GG4',\n",
       " '3',\n",
       " '2458605.655835687',\n",
       " '2019-May-02 03:44',\n",
       " '0.0778433095991995',\n",
       " '0.0775389731372091',\n",
       " '0.0781476434719006',\n",
       " '7.8962756748613',\n",
       " '7.89193968739273',\n",
       " '00:01',\n",
       " '24.951',\n",
       " '       (2019 GG4)']"
      ]
     },
     "execution_count": 3,
     "metadata": {},
     "output_type": "execute_result"
    }
   ],
   "source": [
    "res = requests.get(\"https://ssd-api.jpl.nasa.gov/cad.api?www=1&nea-comet=Y&dist-max=0.2&fullname=true\")\n",
    "soup = BeautifulSoup(res.text, 'lxml')\n",
    "\n",
    "# All data for each object.\n",
    "jd = json.loads(soup.text)\n",
    "jd['data'][0]"
   ]
  },
  {
   "cell_type": "markdown",
   "metadata": {},
   "source": [
    "# Choosing today's NEAs by __Close-Approach (CA) Date__"
   ]
  },
  {
   "cell_type": "code",
   "execution_count": 4,
   "metadata": {},
   "outputs": [
    {
     "data": {
      "text/plain": [
       "['2019 GG4', '2017 SF2', '2012 CP2']"
      ]
     },
     "execution_count": 4,
     "metadata": {},
     "output_type": "execute_result"
    }
   ],
   "source": [
    "today = datetime.now().strftime(\"%Y-%b-%d\")\n",
    "neas = [i[0].split('|')[1] for i in jd['data'] if today in i[3]]\n",
    "neas"
   ]
  },
  {
   "cell_type": "markdown",
   "metadata": {},
   "source": [
    "# Scrawling _[Minor Planet & Comet Ephemeris Service](https://www.minorplanetcenter.net/iau/MPEph/MPEph.html)_\n",
    "* __neaBright__: Observable NEAs\n",
    "* __neaMotions__: NEA's motion [\"/s]\n",
    "* __neaLines__: NEA's ephemerides (ACP's format for NEOCP)"
   ]
  },
  {
   "cell_type": "code",
   "execution_count": 5,
   "metadata": {},
   "outputs": [],
   "source": [
    "dateWP = datetime.now().strftime(\"%Y %m %d\")\n",
    "date = datetime.now().strftime(\"%Y%m%d\")\n",
    "neaMotions, neaLines, neaBright = [], [], []\n",
    "for nea in neas:\n",
    "    neaLine = \"\"\n",
    "    payload = {'ty':'e', 'TextArea':nea, 'd':dateWP, 'l':'', 'i':'1', 'u':'h', 'uto':'0', 'c':'D37'\n",
    "               , 'long':'', 'lat':'', 'alt':'', 'raty':'d', 's':'t', 'm':'s', 'igd':'y', 'ibh':'y', 'adir':'N'\n",
    "               , 'oed':'', 'e':'-2', 'resoc':'', 'tit':'', 'bu':'', 'ch':'c', 'ce':'f', 'js':'f'}\n",
    "    res = requests.post(\"https://cgi.minorplanetcenter.net/cgi-bin/mpeph2.cgi\", data = payload)\n",
    "    soup = BeautifulSoup(res.text, 'lxml')\n",
    "\n",
    "    ephems = [i for i in soup.select('pre')[0].text.split('\\n') if dateWP in i]\n",
    "    ephemsOK = [i for i in ephems if (int(i.split()[14][1:]) >= 40) and (i.split(' ')[3][:2] >= obs_begin) and (i.split(' ')[3][:2] <= obs_stop)]\n",
    "    # NEA is observable and its magnitude is brighter than 18-mag!\n",
    "    if (ephemsOK != []) and (float(ephemsOK[0].split()[10]) <= 18.):\n",
    "        neaMotions.append(float(ephemsOK[0].split()[11]))\n",
    "        for ephem in ephemsOK:\n",
    "    #         with open(\"D:/LWTdata/LWT_{}/lulinLWT/others/{}_ephem_{}.txt\".format(date, nea, ephemsOK[0].split()[11]), 'a') as file:\n",
    "    #             file.write(ephem + '\\n')\n",
    "            neaLine = neaLine + ephem[:36] + '|'\n",
    "        neaLines.append(neaLine[:-1])\n",
    "        neaBright.append(nea)\n",
    "    else:\n",
    "        pass"
   ]
  },
  {
   "cell_type": "code",
   "execution_count": 6,
   "metadata": {},
   "outputs": [
    {
     "name": "stdout",
     "output_type": "stream",
     "text": [
      "[]\n",
      "[]\n",
      "[]\n"
     ]
    }
   ],
   "source": [
    "print(neaBright)\n",
    "print(neaMotions)\n",
    "print(neaLines)"
   ]
  },
  {
   "cell_type": "markdown",
   "metadata": {},
   "source": [
    "# Choosing one which has the __longest__ observable time span!\n",
    "## If no NEOs and NEAs, send an email!"
   ]
  },
  {
   "cell_type": "code",
   "execution_count": 7,
   "metadata": {},
   "outputs": [],
   "source": [
    "if neaBright != []:\n",
    "    neaSpans = [(int(line.split('|')[-1].split()[3][:2])-int(line.split('|')[0].split()[3][:2])) for line in neaLines]\n",
    "    neaMaxSpanIdx = neaSpans.index(max(neaSpans))\n",
    "    neaBOK = neaBright[neaMaxSpanIdx]\n",
    "    neaLOK = neaLines[neaMaxSpanIdx]\n",
    "    neaMOK = neaMotions[neaMaxSpanIdx]\n",
    "else:\n",
    "#     shutil.rmtree(\"D:/LWTdata/LWT_{}/lulinLWT\".format(date))\n",
    "#     sendemail(from_addr    = 'lwt@gm.astro.ncu.edu.tw', \n",
    "#               to_addr_list = ['lwtgroup@astro.ncu.edu.tw'],\n",
    "#               cc_addr_list = [], \n",
    "#               subject      = 'LWT has \"NO\" observation today!', \n",
    "#               message      = 'Bonjour,\\n\\nPlease run the script of Prof. Ngeow today!\\nMerci beaucoup!\\n\\nAmuse-toi bien,\\nJian-Fong Huang (smoBEE)\\nemail: smoBEE@astro.ncu.edu.tw', \n",
    "#               login        = 'lwt@gm.astro.ncu.edu.tw', \n",
    "#               password     = '')\n",
    "#     sys.exit()\n",
    "    pass"
   ]
  },
  {
   "cell_type": "code",
   "execution_count": 8,
   "metadata": {},
   "outputs": [
    {
     "ename": "NameError",
     "evalue": "name 'neaBOK' is not defined",
     "output_type": "error",
     "traceback": [
      "\u001b[1;31m---------------------------------------------------------------------------\u001b[0m",
      "\u001b[1;31mNameError\u001b[0m                                 Traceback (most recent call last)",
      "\u001b[1;32m<ipython-input-8-59519b8b460f>\u001b[0m in \u001b[0;36m<module>\u001b[1;34m()\u001b[0m\n\u001b[1;32m----> 1\u001b[1;33m \u001b[0mprint\u001b[0m\u001b[1;33m(\u001b[0m\u001b[1;34m'[{}] motion is: {}\"/s'\u001b[0m\u001b[1;33m.\u001b[0m\u001b[0mformat\u001b[0m\u001b[1;33m(\u001b[0m\u001b[0mneaBOK\u001b[0m\u001b[1;33m,\u001b[0m \u001b[0mneaMOK\u001b[0m\u001b[1;33m)\u001b[0m\u001b[1;33m)\u001b[0m\u001b[1;33m\u001b[0m\u001b[0m\n\u001b[0m\u001b[0;32m      2\u001b[0m \u001b[0mprint\u001b[0m\u001b[1;33m(\u001b[0m\u001b[1;34m'[{}] ephemerise is:\\n{}'\u001b[0m\u001b[1;33m.\u001b[0m\u001b[0mformat\u001b[0m\u001b[1;33m(\u001b[0m\u001b[0mneaBOK\u001b[0m\u001b[1;33m,\u001b[0m \u001b[0mneaLOK\u001b[0m\u001b[1;33m)\u001b[0m\u001b[1;33m)\u001b[0m\u001b[1;33m\u001b[0m\u001b[0m\n",
      "\u001b[1;31mNameError\u001b[0m: name 'neaBOK' is not defined"
     ]
    }
   ],
   "source": [
    "print('[{}] motion is: {}\"/s'.format(neaBOK, neaMOK))\n",
    "print('[{}] ephemerise is:\\n{}'.format(neaBOK, neaLOK))"
   ]
  }
 ],
 "metadata": {
  "kernelspec": {
   "display_name": "Python 3",
   "language": "python",
   "name": "python3"
  },
  "language_info": {
   "codemirror_mode": {
    "name": "ipython",
    "version": 3
   },
   "file_extension": ".py",
   "mimetype": "text/x-python",
   "name": "python",
   "nbconvert_exporter": "python",
   "pygments_lexer": "ipython3",
   "version": "3.6.1"
  }
 },
 "nbformat": 4,
 "nbformat_minor": 2
}
